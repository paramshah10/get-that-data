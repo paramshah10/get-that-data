{
 "cells": [
  {
   "cell_type": "markdown",
   "metadata": {},
   "source": [
    "# CS188 Project 2 - Binary Classification Comparative Methods"
   ]
  },
  {
   "cell_type": "markdown",
   "metadata": {},
   "source": [
    "For this project we're going to attempt a binary classification of a dataset using multiple methods and compare results. \n",
    "\n",
    "Our goals for this project will be to introduce you to several of the most common classification techniques, how to perform them and tweek parameters to optimize outcomes, how to produce and interpret results, and compare performance. You will be asked to analyze your findings and provide explanations for observed performance. \n",
    "\n",
    "Specifically you will be asked to classify whether a <b>patient is suffering from heart disease</b> based on a host of potential medical factors.\n",
    "\n",
    "<b><u>DEFINITIONS</b></u>\n",
    "\n",
    "\n",
    "<b> Binary Classification:</b>\n",
    "In this case a complex dataset has an added 'target' label with one of two options. Your learning algorithm will try to assign one of these labels to the data.\n",
    "\n",
    "<b> Supervised Learning:</b>\n",
    "This data is fully supervised, which means it's been fully labeled and we can trust the veracity of the labeling."
   ]
  },
  {
   "cell_type": "markdown",
   "metadata": {},
   "source": [
    "## Background: The Dataset "
   ]
  },
  {
   "cell_type": "markdown",
   "metadata": {},
   "source": [
    "For this exercise we will be using a subset of the UCI Heart Disease dataset, leveraging the fourteen most commonly used attributes. All identifying information about the patient has been scrubbed. \n",
    "\n",
    "The dataset includes 14 columns. The information provided by each column is as follows:\n",
    "<ul>\n",
    "    <li><b>age:</b> Age in years</li>\n",
    "    <li><b>sex:</b> (1 = male; 0 = female)</li>\n",
    "    <li><b>cp:</b> Chest pain type (0 = asymptomatic; 1 = atypical angina; 2 = non-anginal pain; 3 = typical angina)</li>\n",
    "    <li><b>trestbps:</b> Resting blood pressure (in mm Hg on admission to the hospital)</li>\n",
    "    <li><b>cholserum:</b> Cholestoral in mg/dl</li>\n",
    "    <li><b>fbs</b> Fasting blood sugar > 120 mg/dl (1 = true; 0 = false)</li>\n",
    "    <li><b>restecg:</b> Resting electrocardiographic results (0= showing probable or definite left ventricular hypertrophy by Estes' criteria; 1 = normal; 2 = having ST-T wave abnormality (T wave inversions and/or ST elevation or depression of > 0.05 mV))</li>\n",
    "    <li><b>thalach:</b> Maximum heart rate achieved</li>\n",
    "    <li><b>exang:</b> Exercise induced angina (1 = yes; 0 = no)</li>\n",
    "    <li><b>oldpeakST:</b> Depression induced by exercise relative to rest</li>\n",
    "    <li><b>slope:</b> The slope of the peak exercise ST segment (0 = downsloping; 1 = flat; 2 = upsloping)</li>\n",
    "    <li><b>ca:</b> Number of major vessels (0-3) colored by flourosopy</li>\n",
    "    <li><b>thal:</b> 1 = normal; 2 = fixed defect; 7 = reversable defect</li>\n",
    "    <li><b><u>Sick:</u></b> Indicates the presence of Heart disease (True = Disease; False = No disease)</li>\n",
    "</ul>\n",
    "    \n"
   ]
  },
  {
   "cell_type": "markdown",
   "metadata": {},
   "source": [
    "## Loading Essentials and Helper Functions "
   ]
  },
  {
   "cell_type": "code",
   "execution_count": 2,
   "metadata": {},
   "outputs": [],
   "source": [
    "#Here are a set of libraries we imported to complete this assignment. \n",
    "#Feel free to use these or equivalent libraries for your implementation\n",
    "import numpy as np # linear algebra\n",
    "import pandas as pd # data processing, CSV file I/O (e.g. pd.read_csv)\n",
    "import matplotlib.pyplot as plt # this is used for the plot the graph \n",
    "import os\n",
    "import seaborn as sns # used for plot interactive graph.\n",
    "from sklearn.model_selection import train_test_split, cross_val_score, GridSearchCV\n",
    "from sklearn import metrics\n",
    "from sklearn.svm import SVC  \n",
    "from sklearn.linear_model import LogisticRegression\n",
    "from sklearn.neighbors import KNeighborsClassifier\n",
    "from sklearn.tree import DecisionTreeClassifier\n",
    "from sklearn.cluster import KMeans\n",
    "from sklearn.metrics import confusion_matrix\n",
    "import sklearn.metrics.cluster as smc\n",
    "from sklearn.model_selection import KFold\n",
    "\n",
    "\n",
    "from matplotlib import pyplot\n",
    "import itertools\n",
    "\n",
    "%matplotlib inline\n",
    "import random \n",
    "  \n",
    "random.seed(42) "
   ]
  },
  {
   "cell_type": "code",
   "execution_count": 3,
   "metadata": {},
   "outputs": [],
   "source": [
    "# Helper function allowing you to export a graph\n",
    "def save_fig(fig_id, tight_layout=True, fig_extension=\"png\", resolution=300):\n",
    "    path = os.path.join(fig_id + \".\" + fig_extension)\n",
    "    print(\"Saving figure\", fig_id)\n",
    "    if tight_layout:\n",
    "        plt.tight_layout()\n",
    "    plt.savefig(path, format=fig_extension, dpi=resolution)"
   ]
  },
  {
   "cell_type": "code",
   "execution_count": 4,
   "metadata": {},
   "outputs": [],
   "source": [
    "# Helper function that allows you to draw nicely formatted confusion matrices\n",
    "def draw_confusion_matrix(y, yhat, classes):\n",
    "    '''\n",
    "        Draws a confusion matrix for the given target and predictions\n",
    "        Adapted from scikit-learn and discussion example.\n",
    "    '''\n",
    "    plt.cla()\n",
    "    plt.clf()\n",
    "    matrix = confusion_matrix(y, yhat)\n",
    "    plt.imshow(matrix, interpolation='nearest', cmap=plt.cm.Blues)\n",
    "    plt.title(\"Confusion Matrix\")\n",
    "    plt.colorbar()\n",
    "    num_classes = len(classes)\n",
    "    plt.xticks(np.arange(num_classes), classes, rotation=90)\n",
    "    plt.yticks(np.arange(num_classes), classes)\n",
    "    \n",
    "    fmt = 'd'\n",
    "    thresh = matrix.max() / 2.\n",
    "    for i, j in itertools.product(range(matrix.shape[0]), range(matrix.shape[1])):\n",
    "        plt.text(j, i, format(matrix[i, j], fmt),\n",
    "                 horizontalalignment=\"center\",\n",
    "                 color=\"white\" if matrix[i, j] > thresh else \"black\")\n",
    "\n",
    "    plt.ylabel('True label')\n",
    "    plt.xlabel('Predicted label')\n",
    "    plt.tight_layout()\n",
    "    plt.show()"
   ]
  },
  {
   "cell_type": "markdown",
   "metadata": {},
   "source": [
    "## [20 Points] Part 1. Load the Data and Analyze"
   ]
  },
  {
   "cell_type": "markdown",
   "metadata": {},
   "source": [
    "Let's first load our dataset so we'll be able to work with it. (correct the relative path if your notebook is in a different directory than the csv file.)"
   ]
  },
  {
   "cell_type": "code",
   "execution_count": 5,
   "metadata": {},
   "outputs": [],
   "source": [
    "data = pd.read_csv(\"./heartdisease.csv\")"
   ]
  },
  {
   "cell_type": "markdown",
   "metadata": {},
   "source": [
    "### Question 1.1 Now that our data is loaded, let's take a closer look at the dataset we're working with. Use the head method to display some of the rows so we can visualize the types of data fields we'll be working with, then use the describe method, along with any additional methods you'd like to call to better help you understand what you're working with and what issues you might face. "
   ]
  },
  {
   "cell_type": "code",
   "execution_count": 6,
   "metadata": {},
   "outputs": [
    {
     "data": {
      "text/html": [
       "<div>\n",
       "<style scoped>\n",
       "    .dataframe tbody tr th:only-of-type {\n",
       "        vertical-align: middle;\n",
       "    }\n",
       "\n",
       "    .dataframe tbody tr th {\n",
       "        vertical-align: top;\n",
       "    }\n",
       "\n",
       "    .dataframe thead th {\n",
       "        text-align: right;\n",
       "    }\n",
       "</style>\n",
       "<table border=\"1\" class=\"dataframe\">\n",
       "  <thead>\n",
       "    <tr style=\"text-align: right;\">\n",
       "      <th></th>\n",
       "      <th>age</th>\n",
       "      <th>sex</th>\n",
       "      <th>cp</th>\n",
       "      <th>trestbps</th>\n",
       "      <th>chol</th>\n",
       "      <th>fbs</th>\n",
       "      <th>restecg</th>\n",
       "      <th>thalach</th>\n",
       "      <th>exang</th>\n",
       "      <th>oldpeak</th>\n",
       "      <th>slope</th>\n",
       "      <th>ca</th>\n",
       "      <th>thal</th>\n",
       "      <th>sick</th>\n",
       "    </tr>\n",
       "  </thead>\n",
       "  <tbody>\n",
       "    <tr>\n",
       "      <td>0</td>\n",
       "      <td>63</td>\n",
       "      <td>1</td>\n",
       "      <td>3</td>\n",
       "      <td>145</td>\n",
       "      <td>233</td>\n",
       "      <td>1</td>\n",
       "      <td>0</td>\n",
       "      <td>150</td>\n",
       "      <td>0</td>\n",
       "      <td>2.3</td>\n",
       "      <td>0</td>\n",
       "      <td>0</td>\n",
       "      <td>1</td>\n",
       "      <td>False</td>\n",
       "    </tr>\n",
       "    <tr>\n",
       "      <td>1</td>\n",
       "      <td>37</td>\n",
       "      <td>1</td>\n",
       "      <td>2</td>\n",
       "      <td>130</td>\n",
       "      <td>250</td>\n",
       "      <td>0</td>\n",
       "      <td>1</td>\n",
       "      <td>187</td>\n",
       "      <td>0</td>\n",
       "      <td>3.5</td>\n",
       "      <td>0</td>\n",
       "      <td>0</td>\n",
       "      <td>2</td>\n",
       "      <td>False</td>\n",
       "    </tr>\n",
       "    <tr>\n",
       "      <td>2</td>\n",
       "      <td>41</td>\n",
       "      <td>0</td>\n",
       "      <td>1</td>\n",
       "      <td>130</td>\n",
       "      <td>204</td>\n",
       "      <td>0</td>\n",
       "      <td>0</td>\n",
       "      <td>172</td>\n",
       "      <td>0</td>\n",
       "      <td>1.4</td>\n",
       "      <td>2</td>\n",
       "      <td>0</td>\n",
       "      <td>2</td>\n",
       "      <td>False</td>\n",
       "    </tr>\n",
       "    <tr>\n",
       "      <td>3</td>\n",
       "      <td>56</td>\n",
       "      <td>1</td>\n",
       "      <td>1</td>\n",
       "      <td>120</td>\n",
       "      <td>236</td>\n",
       "      <td>0</td>\n",
       "      <td>1</td>\n",
       "      <td>178</td>\n",
       "      <td>0</td>\n",
       "      <td>0.8</td>\n",
       "      <td>2</td>\n",
       "      <td>0</td>\n",
       "      <td>2</td>\n",
       "      <td>False</td>\n",
       "    </tr>\n",
       "    <tr>\n",
       "      <td>4</td>\n",
       "      <td>57</td>\n",
       "      <td>0</td>\n",
       "      <td>0</td>\n",
       "      <td>120</td>\n",
       "      <td>354</td>\n",
       "      <td>0</td>\n",
       "      <td>1</td>\n",
       "      <td>163</td>\n",
       "      <td>1</td>\n",
       "      <td>0.6</td>\n",
       "      <td>2</td>\n",
       "      <td>0</td>\n",
       "      <td>2</td>\n",
       "      <td>False</td>\n",
       "    </tr>\n",
       "  </tbody>\n",
       "</table>\n",
       "</div>"
      ],
      "text/plain": [
       "   age  sex  cp  trestbps  chol  fbs  restecg  thalach  exang  oldpeak  slope  \\\n",
       "0   63    1   3       145   233    1        0      150      0      2.3      0   \n",
       "1   37    1   2       130   250    0        1      187      0      3.5      0   \n",
       "2   41    0   1       130   204    0        0      172      0      1.4      2   \n",
       "3   56    1   1       120   236    0        1      178      0      0.8      2   \n",
       "4   57    0   0       120   354    0        1      163      1      0.6      2   \n",
       "\n",
       "   ca  thal   sick  \n",
       "0   0     1  False  \n",
       "1   0     2  False  \n",
       "2   0     2  False  \n",
       "3   0     2  False  \n",
       "4   0     2  False  "
      ]
     },
     "execution_count": 6,
     "metadata": {},
     "output_type": "execute_result"
    }
   ],
   "source": [
    "data.head()"
   ]
  },
  {
   "cell_type": "code",
   "execution_count": 7,
   "metadata": {},
   "outputs": [
    {
     "data": {
      "text/html": [
       "<div>\n",
       "<style scoped>\n",
       "    .dataframe tbody tr th:only-of-type {\n",
       "        vertical-align: middle;\n",
       "    }\n",
       "\n",
       "    .dataframe tbody tr th {\n",
       "        vertical-align: top;\n",
       "    }\n",
       "\n",
       "    .dataframe thead th {\n",
       "        text-align: right;\n",
       "    }\n",
       "</style>\n",
       "<table border=\"1\" class=\"dataframe\">\n",
       "  <thead>\n",
       "    <tr style=\"text-align: right;\">\n",
       "      <th></th>\n",
       "      <th>age</th>\n",
       "      <th>sex</th>\n",
       "      <th>cp</th>\n",
       "      <th>trestbps</th>\n",
       "      <th>chol</th>\n",
       "      <th>fbs</th>\n",
       "      <th>restecg</th>\n",
       "      <th>thalach</th>\n",
       "      <th>exang</th>\n",
       "      <th>oldpeak</th>\n",
       "      <th>slope</th>\n",
       "      <th>ca</th>\n",
       "      <th>thal</th>\n",
       "    </tr>\n",
       "  </thead>\n",
       "  <tbody>\n",
       "    <tr>\n",
       "      <td>count</td>\n",
       "      <td>303.000000</td>\n",
       "      <td>303.000000</td>\n",
       "      <td>303.000000</td>\n",
       "      <td>303.000000</td>\n",
       "      <td>303.000000</td>\n",
       "      <td>303.000000</td>\n",
       "      <td>303.000000</td>\n",
       "      <td>303.000000</td>\n",
       "      <td>303.000000</td>\n",
       "      <td>303.000000</td>\n",
       "      <td>303.000000</td>\n",
       "      <td>303.000000</td>\n",
       "      <td>303.000000</td>\n",
       "    </tr>\n",
       "    <tr>\n",
       "      <td>mean</td>\n",
       "      <td>54.366337</td>\n",
       "      <td>0.683168</td>\n",
       "      <td>0.966997</td>\n",
       "      <td>131.623762</td>\n",
       "      <td>246.264026</td>\n",
       "      <td>0.148515</td>\n",
       "      <td>0.528053</td>\n",
       "      <td>149.646865</td>\n",
       "      <td>0.326733</td>\n",
       "      <td>1.039604</td>\n",
       "      <td>1.399340</td>\n",
       "      <td>0.729373</td>\n",
       "      <td>2.313531</td>\n",
       "    </tr>\n",
       "    <tr>\n",
       "      <td>std</td>\n",
       "      <td>9.082101</td>\n",
       "      <td>0.466011</td>\n",
       "      <td>1.032052</td>\n",
       "      <td>17.538143</td>\n",
       "      <td>51.830751</td>\n",
       "      <td>0.356198</td>\n",
       "      <td>0.525860</td>\n",
       "      <td>22.905161</td>\n",
       "      <td>0.469794</td>\n",
       "      <td>1.161075</td>\n",
       "      <td>0.616226</td>\n",
       "      <td>1.022606</td>\n",
       "      <td>0.612277</td>\n",
       "    </tr>\n",
       "    <tr>\n",
       "      <td>min</td>\n",
       "      <td>29.000000</td>\n",
       "      <td>0.000000</td>\n",
       "      <td>0.000000</td>\n",
       "      <td>94.000000</td>\n",
       "      <td>126.000000</td>\n",
       "      <td>0.000000</td>\n",
       "      <td>0.000000</td>\n",
       "      <td>71.000000</td>\n",
       "      <td>0.000000</td>\n",
       "      <td>0.000000</td>\n",
       "      <td>0.000000</td>\n",
       "      <td>0.000000</td>\n",
       "      <td>0.000000</td>\n",
       "    </tr>\n",
       "    <tr>\n",
       "      <td>25%</td>\n",
       "      <td>47.500000</td>\n",
       "      <td>0.000000</td>\n",
       "      <td>0.000000</td>\n",
       "      <td>120.000000</td>\n",
       "      <td>211.000000</td>\n",
       "      <td>0.000000</td>\n",
       "      <td>0.000000</td>\n",
       "      <td>133.500000</td>\n",
       "      <td>0.000000</td>\n",
       "      <td>0.000000</td>\n",
       "      <td>1.000000</td>\n",
       "      <td>0.000000</td>\n",
       "      <td>2.000000</td>\n",
       "    </tr>\n",
       "    <tr>\n",
       "      <td>50%</td>\n",
       "      <td>55.000000</td>\n",
       "      <td>1.000000</td>\n",
       "      <td>1.000000</td>\n",
       "      <td>130.000000</td>\n",
       "      <td>240.000000</td>\n",
       "      <td>0.000000</td>\n",
       "      <td>1.000000</td>\n",
       "      <td>153.000000</td>\n",
       "      <td>0.000000</td>\n",
       "      <td>0.800000</td>\n",
       "      <td>1.000000</td>\n",
       "      <td>0.000000</td>\n",
       "      <td>2.000000</td>\n",
       "    </tr>\n",
       "    <tr>\n",
       "      <td>75%</td>\n",
       "      <td>61.000000</td>\n",
       "      <td>1.000000</td>\n",
       "      <td>2.000000</td>\n",
       "      <td>140.000000</td>\n",
       "      <td>274.500000</td>\n",
       "      <td>0.000000</td>\n",
       "      <td>1.000000</td>\n",
       "      <td>166.000000</td>\n",
       "      <td>1.000000</td>\n",
       "      <td>1.600000</td>\n",
       "      <td>2.000000</td>\n",
       "      <td>1.000000</td>\n",
       "      <td>3.000000</td>\n",
       "    </tr>\n",
       "    <tr>\n",
       "      <td>max</td>\n",
       "      <td>77.000000</td>\n",
       "      <td>1.000000</td>\n",
       "      <td>3.000000</td>\n",
       "      <td>200.000000</td>\n",
       "      <td>564.000000</td>\n",
       "      <td>1.000000</td>\n",
       "      <td>2.000000</td>\n",
       "      <td>202.000000</td>\n",
       "      <td>1.000000</td>\n",
       "      <td>6.200000</td>\n",
       "      <td>2.000000</td>\n",
       "      <td>4.000000</td>\n",
       "      <td>3.000000</td>\n",
       "    </tr>\n",
       "  </tbody>\n",
       "</table>\n",
       "</div>"
      ],
      "text/plain": [
       "              age         sex          cp    trestbps        chol         fbs  \\\n",
       "count  303.000000  303.000000  303.000000  303.000000  303.000000  303.000000   \n",
       "mean    54.366337    0.683168    0.966997  131.623762  246.264026    0.148515   \n",
       "std      9.082101    0.466011    1.032052   17.538143   51.830751    0.356198   \n",
       "min     29.000000    0.000000    0.000000   94.000000  126.000000    0.000000   \n",
       "25%     47.500000    0.000000    0.000000  120.000000  211.000000    0.000000   \n",
       "50%     55.000000    1.000000    1.000000  130.000000  240.000000    0.000000   \n",
       "75%     61.000000    1.000000    2.000000  140.000000  274.500000    0.000000   \n",
       "max     77.000000    1.000000    3.000000  200.000000  564.000000    1.000000   \n",
       "\n",
       "          restecg     thalach       exang     oldpeak       slope          ca  \\\n",
       "count  303.000000  303.000000  303.000000  303.000000  303.000000  303.000000   \n",
       "mean     0.528053  149.646865    0.326733    1.039604    1.399340    0.729373   \n",
       "std      0.525860   22.905161    0.469794    1.161075    0.616226    1.022606   \n",
       "min      0.000000   71.000000    0.000000    0.000000    0.000000    0.000000   \n",
       "25%      0.000000  133.500000    0.000000    0.000000    1.000000    0.000000   \n",
       "50%      1.000000  153.000000    0.000000    0.800000    1.000000    0.000000   \n",
       "75%      1.000000  166.000000    1.000000    1.600000    2.000000    1.000000   \n",
       "max      2.000000  202.000000    1.000000    6.200000    2.000000    4.000000   \n",
       "\n",
       "             thal  \n",
       "count  303.000000  \n",
       "mean     2.313531  \n",
       "std      0.612277  \n",
       "min      0.000000  \n",
       "25%      2.000000  \n",
       "50%      2.000000  \n",
       "75%      3.000000  \n",
       "max      3.000000  "
      ]
     },
     "execution_count": 7,
     "metadata": {},
     "output_type": "execute_result"
    }
   ],
   "source": [
    "data.describe()"
   ]
  },
  {
   "cell_type": "code",
   "execution_count": 8,
   "metadata": {},
   "outputs": [
    {
     "name": "stdout",
     "output_type": "stream",
     "text": [
      "<class 'pandas.core.frame.DataFrame'>\n",
      "RangeIndex: 303 entries, 0 to 302\n",
      "Data columns (total 14 columns):\n",
      "age         303 non-null int64\n",
      "sex         303 non-null int64\n",
      "cp          303 non-null int64\n",
      "trestbps    303 non-null int64\n",
      "chol        303 non-null int64\n",
      "fbs         303 non-null int64\n",
      "restecg     303 non-null int64\n",
      "thalach     303 non-null int64\n",
      "exang       303 non-null int64\n",
      "oldpeak     303 non-null float64\n",
      "slope       303 non-null int64\n",
      "ca          303 non-null int64\n",
      "thal        303 non-null int64\n",
      "sick        303 non-null bool\n",
      "dtypes: bool(1), float64(1), int64(12)\n",
      "memory usage: 31.2 KB\n"
     ]
    }
   ],
   "source": [
    "data.info()"
   ]
  },
  {
   "cell_type": "code",
   "execution_count": 9,
   "metadata": {},
   "outputs": [
    {
     "data": {
      "text/html": [
       "<div>\n",
       "<style scoped>\n",
       "    .dataframe tbody tr th:only-of-type {\n",
       "        vertical-align: middle;\n",
       "    }\n",
       "\n",
       "    .dataframe tbody tr th {\n",
       "        vertical-align: top;\n",
       "    }\n",
       "\n",
       "    .dataframe thead th {\n",
       "        text-align: right;\n",
       "    }\n",
       "</style>\n",
       "<table border=\"1\" class=\"dataframe\">\n",
       "  <thead>\n",
       "    <tr style=\"text-align: right;\">\n",
       "      <th></th>\n",
       "      <th>age</th>\n",
       "      <th>sex</th>\n",
       "      <th>cp</th>\n",
       "      <th>trestbps</th>\n",
       "      <th>chol</th>\n",
       "      <th>fbs</th>\n",
       "      <th>restecg</th>\n",
       "      <th>thalach</th>\n",
       "      <th>exang</th>\n",
       "      <th>oldpeak</th>\n",
       "      <th>slope</th>\n",
       "      <th>ca</th>\n",
       "      <th>thal</th>\n",
       "      <th>sick</th>\n",
       "    </tr>\n",
       "  </thead>\n",
       "  <tbody>\n",
       "  </tbody>\n",
       "</table>\n",
       "</div>"
      ],
      "text/plain": [
       "Empty DataFrame\n",
       "Columns: [age, sex, cp, trestbps, chol, fbs, restecg, thalach, exang, oldpeak, slope, ca, thal, sick]\n",
       "Index: []"
      ]
     },
     "execution_count": 9,
     "metadata": {},
     "output_type": "execute_result"
    }
   ],
   "source": [
    "null_data = data[data.isnull().any(axis=1)]\n",
    "null_data"
   ]
  },
  {
   "cell_type": "markdown",
   "metadata": {},
   "source": [
    "### Question 1.2 Discuss your data preprocessing strategy. Are their any datafield types that are problemmatic and why? Will there be any null values you will have to impute and how do you intend to do so? Finally, for your numeric and categorical features, what if any, additional preprocessing steps will you take on those data elements?"
   ]
  },
  {
   "cell_type": "markdown",
   "metadata": {},
   "source": [
    "##### Answer\n",
    "\n",
    " - In the above cells, I use the basic info() and describe() functions to get a general idea of how my dataset looks and what kinds of values I would be dealing with for each feature.\n",
    " - I then use the info() function to see the data types for each feature and to check if there are any data types that I would have deal with in order for my model to work effectively. I see that 'sick' is a bool type that I would have to deal with since the model won't be able to understand how to deal with a bool\n",
    " - I also check for any null values but I find that there are no null values in the dataset. The presence of no null values means that I don't have to do any data imputation that might negetively affect my model."
   ]
  },
  {
   "cell_type": "markdown",
   "metadata": {},
   "source": [
    "### Question 1.3  Before we begin our analysis we need to fix the field(s) that will be problematic. Specifically convert our boolean sick variable into a binary numeric target variable (values of either '0' or '1'), and then drop the original sick datafield from the dataframe."
   ]
  },
  {
   "cell_type": "code",
   "execution_count": 10,
   "metadata": {},
   "outputs": [],
   "source": [
    "data.sick = data.sick.replace({True: 1, False: 0})\n",
    "#data.info()"
   ]
  },
  {
   "cell_type": "markdown",
   "metadata": {},
   "source": [
    "### Question 1.4 Now that we have a feel for the data-types for each of the variables, plot histograms of each field and attempt to ascertain how each variable performs (is it a binary, or limited selection, or does it follow a gradient? (Note: No need to describe each variable, but pick out a few you wish to highlight)"
   ]
  },
  {
   "cell_type": "code",
   "execution_count": 11,
   "metadata": {},
   "outputs": [
    {
     "data": {
      "text/plain": [
       "array([[<matplotlib.axes._subplots.AxesSubplot object at 0x00000271766D3D48>,\n",
       "        <matplotlib.axes._subplots.AxesSubplot object at 0x0000027176CA3108>],\n",
       "       [<matplotlib.axes._subplots.AxesSubplot object at 0x0000027176CD5A08>,\n",
       "        <matplotlib.axes._subplots.AxesSubplot object at 0x0000027176D0B788>],\n",
       "       [<matplotlib.axes._subplots.AxesSubplot object at 0x0000027176D440C8>,\n",
       "        <matplotlib.axes._subplots.AxesSubplot object at 0x0000027176D7D208>]],\n",
       "      dtype=object)"
      ]
     },
     "execution_count": 11,
     "metadata": {},
     "output_type": "execute_result"
    },
    {
     "data": {
      "image/png": "[encoded data removed]",
      "text/plain": [
       "<Figure size 1080x720 with 6 Axes>"
      ]
     },
     "metadata": {
      "needs_background": "light"
     },
     "output_type": "display_data"
    }
   ],
   "source": [
    "features = [\"age\",\"cp\",\"trestbps\",\"fbs\",\"oldpeak\"]\n",
    "data[features].hist(bins=40, figsize=(15,10))\n"
   ]
  },
  {
   "cell_type": "markdown",
   "metadata": {},
   "source": [
    "### Question 1.5 We also want to make sure we are dealing with a balanced dataset. In this case, we want to confirm whether or not we have an equitable number of  sick and healthy individuals to ensure that our classifier will have a sufficiently balanced dataset to adequately classify the two. Plot a histogram specifically of the sick target, and conduct a count of the number of sick and healthy individuals and report on the results: "
   ]
  },
  {
   "cell_type": "code",
   "execution_count": 12,
   "metadata": {},
   "outputs": [
    {
     "name": "stdout",
     "output_type": "stream",
     "text": [
      "Number of sick patients: 138\n",
      "Number of healthy patients: 165\n"
     ]
    },
    {
     "data": {
      "image/png": "[encoded data removed]",
      "text/plain": [
       "<Figure size 432x288 with 1 Axes>"
      ]
     },
     "metadata": {
      "needs_background": "light"
     },
     "output_type": "display_data"
    }
   ],
   "source": [
    "data[\"sick\"].hist()\n",
    "print(\"Number of sick patients: {}\".format(data[\"sick\"].isin([1]).sum()))\n",
    "print(\"Number of healthy patients: {}\".format(data[\"sick\"].isin([0]).sum()))"
   ]
  },
  {
   "cell_type": "markdown",
   "metadata": {},
   "source": [
    "##### Findings\n",
    "\n",
    "- The number of sick patients are 138 while the number of healthy patients are 165.\n",
    "- This is good for us because our dataset is roughly balanced and therefore we don't need to artificially balance a dataset.\n"
   ]
  },
  {
   "cell_type": "markdown",
   "metadata": {},
   "source": [
    "### Question  1.6 Balanced datasets are important to ensure that classifiers train adequately and don't overfit, however arbitrary balancing of a dataset might introduce its own issues. Discuss some of the problems that might arise by artificially balancing a dataset."
   ]
  },
  {
   "cell_type": "markdown",
   "metadata": {},
   "source": [
    "##### Answer\n",
    "\n",
    "Some problems that can arise while artificially balancing a dataset:\n",
    "\n",
    "- You might skew the data towards one class or one feature\n",
    "- You might artificially add data that is around the border of the datasets and hence increase false predictions\n",
    "- Could change the correlation between 2 features\n"
   ]
  },
  {
   "cell_type": "markdown",
   "metadata": {},
   "source": [
    "### Question 1.9 Now that we have our dataframe prepared let's start analyzing our data. For this next question let's look at the correlations of our variables to our target value. First, map out the correlations between the values, and then discuss the relationships you observe. Do some research on the variables to understand why they may relate to the observed corellations. Intuitively, why do you think some variables correlate more highly than others (hint: one possible approach you can use the sns heatmap function to map the corr() method)?"
   ]
  },
  {
   "cell_type": "code",
   "execution_count": 40,
   "metadata": {},
   "outputs": [
    {
     "data": {
      "text/plain": [
       "<matplotlib.axes._subplots.AxesSubplot at 0x27177213688>"
      ]
     },
     "execution_count": 40,
     "metadata": {},
     "output_type": "execute_result"
    },
    {
     "data": {
      "image/png": "[encoded data removed]",
      "text/plain": [
       "<Figure size 432x288 with 2 Axes>"
      ]
     },
     "metadata": {
      "needs_background": "light"
     },
     "output_type": "display_data"
    }
   ],
   "source": [
    "corr_matrix = data.corr()\n",
    "sns.heatmap(corr_matrix)"
   ]
  },
  {
   "cell_type": "markdown",
   "metadata": {},
   "source": [
    "[Discuss correlations here] \n",
    "\n",
    "Positive and comparatively strong correlation:\n",
    "- exang and sick\n",
    "- oldpeak and sick\n",
    "- sick and ca\n",
    "\n",
    "Negative and comparatively strong correlation:\n",
    "- sick and cp\n",
    "- sick and thalach\n",
    "- slope and old peak\n",
    "- exang and cp\n",
    "- thalach and age\n"
   ]
  },
  {
   "cell_type": "markdown",
   "metadata": {},
   "source": [
    "## [30 Points] Part 2. Prepare the Data "
   ]
  },
  {
   "cell_type": "markdown",
   "metadata": {},
   "source": [
    "Before running our various learning methods, we need to do some additional prep to finalize our data. Specifically you'll have to cut the classification target from the data that will be used to classify, and then you'll have to divide the dataset into training and testing cohorts.\n",
    "\n",
    "Specifically, we're going to ask you to prepare 2 batches of data: 1. Will simply be the raw numeric data that hasn't gone through any additional pre-processing. The other, will be data that you pipeline using your own selected methods. We will then feed both of these datasets into a classifier to showcase just how important this step can be!"
   ]
  },
  {
   "cell_type": "markdown",
   "metadata": {},
   "source": [
    "### Question 2.1 Save the target column as a separate array and then drop it from the dataframe. "
   ]
  },
  {
   "cell_type": "code",
   "execution_count": 14,
   "metadata": {},
   "outputs": [],
   "source": [
    "target_column = data.sick\n",
    "\n",
    "new_data = data.drop(\"sick\", axis=1)"
   ]
  },
  {
   "cell_type": "markdown",
   "metadata": {},
   "source": [
    "### Question 2.2 First Create your 'Raw' unprocessed training data by dividing your dataframe into training and testing cohorts, with your training cohort consisting of 70% of your total dataframe (hint: use the train_test_split method) Output the resulting shapes of your training and testing samples to confirm that your split was successful."
   ]
  },
  {
   "cell_type": "code",
   "execution_count": 15,
   "metadata": {},
   "outputs": [
    {
     "name": "stdout",
     "output_type": "stream",
     "text": [
      "(212, 13) (91, 13) (212,) (91,)\n"
     ]
    }
   ],
   "source": [
    "raw_x_train, raw_x_test, raw_y_train, raw_y_test = train_test_split(new_data, \n",
    "                                                                    target_column, \n",
    "                                                                    test_size=0.3, random_state=42)\n",
    "\n",
    "print(raw_x_train.shape, raw_x_test.shape, raw_y_train.shape, raw_y_test.shape)"
   ]
  },
  {
   "cell_type": "markdown",
   "metadata": {},
   "source": [
    "### Question 2.3 Now create a pipeline to conduct any additional preparation of the data you would like. Output the resulting array to ensure it was processed correctly."
   ]
  },
  {
   "cell_type": "code",
   "execution_count": 16,
   "metadata": {},
   "outputs": [
    {
     "data": {
      "text/html": [
       "<div>\n",
       "<style scoped>\n",
       "    .dataframe tbody tr th:only-of-type {\n",
       "        vertical-align: middle;\n",
       "    }\n",
       "\n",
       "    .dataframe tbody tr th {\n",
       "        vertical-align: top;\n",
       "    }\n",
       "\n",
       "    .dataframe thead th {\n",
       "        text-align: right;\n",
       "    }\n",
       "</style>\n",
       "<table border=\"1\" class=\"dataframe\">\n",
       "  <thead>\n",
       "    <tr style=\"text-align: right;\">\n",
       "      <th></th>\n",
       "      <th>0</th>\n",
       "      <th>1</th>\n",
       "      <th>2</th>\n",
       "      <th>3</th>\n",
       "      <th>4</th>\n",
       "      <th>5</th>\n",
       "      <th>6</th>\n",
       "      <th>7</th>\n",
       "      <th>8</th>\n",
       "      <th>9</th>\n",
       "      <th>...</th>\n",
       "      <th>20</th>\n",
       "      <th>21</th>\n",
       "      <th>22</th>\n",
       "      <th>23</th>\n",
       "      <th>24</th>\n",
       "      <th>25</th>\n",
       "      <th>26</th>\n",
       "      <th>27</th>\n",
       "      <th>28</th>\n",
       "      <th>29</th>\n",
       "    </tr>\n",
       "  </thead>\n",
       "  <tbody>\n",
       "    <tr>\n",
       "      <td>0</td>\n",
       "      <td>0.952197</td>\n",
       "      <td>0.763956</td>\n",
       "      <td>-0.256334</td>\n",
       "      <td>0.015443</td>\n",
       "      <td>1.087338</td>\n",
       "      <td>0.0</td>\n",
       "      <td>1.0</td>\n",
       "      <td>0.0</td>\n",
       "      <td>0.0</td>\n",
       "      <td>0.0</td>\n",
       "      <td>...</td>\n",
       "      <td>0.0</td>\n",
       "      <td>1.0</td>\n",
       "      <td>0.0</td>\n",
       "      <td>0.0</td>\n",
       "      <td>0.0</td>\n",
       "      <td>0.0</td>\n",
       "      <td>0.0</td>\n",
       "      <td>1.0</td>\n",
       "      <td>0.0</td>\n",
       "      <td>0.0</td>\n",
       "    </tr>\n",
       "    <tr>\n",
       "      <td>1</td>\n",
       "      <td>-1.915313</td>\n",
       "      <td>-0.092738</td>\n",
       "      <td>0.072199</td>\n",
       "      <td>1.633471</td>\n",
       "      <td>2.122573</td>\n",
       "      <td>0.0</td>\n",
       "      <td>1.0</td>\n",
       "      <td>0.0</td>\n",
       "      <td>0.0</td>\n",
       "      <td>1.0</td>\n",
       "      <td>...</td>\n",
       "      <td>0.0</td>\n",
       "      <td>1.0</td>\n",
       "      <td>0.0</td>\n",
       "      <td>0.0</td>\n",
       "      <td>0.0</td>\n",
       "      <td>0.0</td>\n",
       "      <td>0.0</td>\n",
       "      <td>0.0</td>\n",
       "      <td>1.0</td>\n",
       "      <td>0.0</td>\n",
       "    </tr>\n",
       "    <tr>\n",
       "      <td>2</td>\n",
       "      <td>-1.474158</td>\n",
       "      <td>-0.092738</td>\n",
       "      <td>-0.816773</td>\n",
       "      <td>0.977514</td>\n",
       "      <td>0.310912</td>\n",
       "      <td>1.0</td>\n",
       "      <td>0.0</td>\n",
       "      <td>0.0</td>\n",
       "      <td>1.0</td>\n",
       "      <td>0.0</td>\n",
       "      <td>...</td>\n",
       "      <td>1.0</td>\n",
       "      <td>1.0</td>\n",
       "      <td>0.0</td>\n",
       "      <td>0.0</td>\n",
       "      <td>0.0</td>\n",
       "      <td>0.0</td>\n",
       "      <td>0.0</td>\n",
       "      <td>0.0</td>\n",
       "      <td>1.0</td>\n",
       "      <td>0.0</td>\n",
       "    </tr>\n",
       "    <tr>\n",
       "      <td>3</td>\n",
       "      <td>0.180175</td>\n",
       "      <td>-0.663867</td>\n",
       "      <td>-0.198357</td>\n",
       "      <td>1.239897</td>\n",
       "      <td>-0.206705</td>\n",
       "      <td>0.0</td>\n",
       "      <td>1.0</td>\n",
       "      <td>0.0</td>\n",
       "      <td>1.0</td>\n",
       "      <td>0.0</td>\n",
       "      <td>...</td>\n",
       "      <td>1.0</td>\n",
       "      <td>1.0</td>\n",
       "      <td>0.0</td>\n",
       "      <td>0.0</td>\n",
       "      <td>0.0</td>\n",
       "      <td>0.0</td>\n",
       "      <td>0.0</td>\n",
       "      <td>0.0</td>\n",
       "      <td>1.0</td>\n",
       "      <td>0.0</td>\n",
       "    </tr>\n",
       "    <tr>\n",
       "      <td>4</td>\n",
       "      <td>0.290464</td>\n",
       "      <td>-0.663867</td>\n",
       "      <td>2.082050</td>\n",
       "      <td>0.583939</td>\n",
       "      <td>-0.379244</td>\n",
       "      <td>1.0</td>\n",
       "      <td>0.0</td>\n",
       "      <td>1.0</td>\n",
       "      <td>0.0</td>\n",
       "      <td>0.0</td>\n",
       "      <td>...</td>\n",
       "      <td>1.0</td>\n",
       "      <td>1.0</td>\n",
       "      <td>0.0</td>\n",
       "      <td>0.0</td>\n",
       "      <td>0.0</td>\n",
       "      <td>0.0</td>\n",
       "      <td>0.0</td>\n",
       "      <td>0.0</td>\n",
       "      <td>1.0</td>\n",
       "      <td>0.0</td>\n",
       "    </tr>\n",
       "    <tr>\n",
       "      <td>5</td>\n",
       "      <td>0.290464</td>\n",
       "      <td>0.478391</td>\n",
       "      <td>-1.048678</td>\n",
       "      <td>-0.072018</td>\n",
       "      <td>-0.551783</td>\n",
       "      <td>0.0</td>\n",
       "      <td>1.0</td>\n",
       "      <td>1.0</td>\n",
       "      <td>0.0</td>\n",
       "      <td>0.0</td>\n",
       "      <td>...</td>\n",
       "      <td>0.0</td>\n",
       "      <td>1.0</td>\n",
       "      <td>0.0</td>\n",
       "      <td>0.0</td>\n",
       "      <td>0.0</td>\n",
       "      <td>0.0</td>\n",
       "      <td>0.0</td>\n",
       "      <td>1.0</td>\n",
       "      <td>0.0</td>\n",
       "      <td>0.0</td>\n",
       "    </tr>\n",
       "    <tr>\n",
       "      <td>6</td>\n",
       "      <td>0.180175</td>\n",
       "      <td>0.478391</td>\n",
       "      <td>0.922521</td>\n",
       "      <td>0.146634</td>\n",
       "      <td>0.224643</td>\n",
       "      <td>1.0</td>\n",
       "      <td>0.0</td>\n",
       "      <td>0.0</td>\n",
       "      <td>1.0</td>\n",
       "      <td>0.0</td>\n",
       "      <td>...</td>\n",
       "      <td>0.0</td>\n",
       "      <td>1.0</td>\n",
       "      <td>0.0</td>\n",
       "      <td>0.0</td>\n",
       "      <td>0.0</td>\n",
       "      <td>0.0</td>\n",
       "      <td>0.0</td>\n",
       "      <td>0.0</td>\n",
       "      <td>1.0</td>\n",
       "      <td>0.0</td>\n",
       "    </tr>\n",
       "    <tr>\n",
       "      <td>7</td>\n",
       "      <td>-1.143291</td>\n",
       "      <td>-0.663867</td>\n",
       "      <td>0.323431</td>\n",
       "      <td>1.021244</td>\n",
       "      <td>-0.896862</td>\n",
       "      <td>0.0</td>\n",
       "      <td>1.0</td>\n",
       "      <td>0.0</td>\n",
       "      <td>1.0</td>\n",
       "      <td>0.0</td>\n",
       "      <td>...</td>\n",
       "      <td>1.0</td>\n",
       "      <td>1.0</td>\n",
       "      <td>0.0</td>\n",
       "      <td>0.0</td>\n",
       "      <td>0.0</td>\n",
       "      <td>0.0</td>\n",
       "      <td>0.0</td>\n",
       "      <td>0.0</td>\n",
       "      <td>0.0</td>\n",
       "      <td>1.0</td>\n",
       "    </tr>\n",
       "    <tr>\n",
       "      <td>8</td>\n",
       "      <td>-0.260980</td>\n",
       "      <td>2.306004</td>\n",
       "      <td>-0.913400</td>\n",
       "      <td>0.540209</td>\n",
       "      <td>-0.465514</td>\n",
       "      <td>0.0</td>\n",
       "      <td>1.0</td>\n",
       "      <td>0.0</td>\n",
       "      <td>0.0</td>\n",
       "      <td>1.0</td>\n",
       "      <td>...</td>\n",
       "      <td>1.0</td>\n",
       "      <td>1.0</td>\n",
       "      <td>0.0</td>\n",
       "      <td>0.0</td>\n",
       "      <td>0.0</td>\n",
       "      <td>0.0</td>\n",
       "      <td>0.0</td>\n",
       "      <td>0.0</td>\n",
       "      <td>0.0</td>\n",
       "      <td>1.0</td>\n",
       "    </tr>\n",
       "    <tr>\n",
       "      <td>9</td>\n",
       "      <td>0.290464</td>\n",
       "      <td>1.049520</td>\n",
       "      <td>-1.512490</td>\n",
       "      <td>1.064975</td>\n",
       "      <td>0.483451</td>\n",
       "      <td>0.0</td>\n",
       "      <td>1.0</td>\n",
       "      <td>0.0</td>\n",
       "      <td>0.0</td>\n",
       "      <td>1.0</td>\n",
       "      <td>...</td>\n",
       "      <td>1.0</td>\n",
       "      <td>1.0</td>\n",
       "      <td>0.0</td>\n",
       "      <td>0.0</td>\n",
       "      <td>0.0</td>\n",
       "      <td>0.0</td>\n",
       "      <td>0.0</td>\n",
       "      <td>0.0</td>\n",
       "      <td>1.0</td>\n",
       "      <td>0.0</td>\n",
       "    </tr>\n",
       "  </tbody>\n",
       "</table>\n",
       "<p>10 rows × 30 columns</p>\n",
       "</div>"
      ],
      "text/plain": [
       "         0         1         2         3         4    5    6    7    8    9   \\\n",
       "0  0.952197  0.763956 -0.256334  0.015443  1.087338  0.0  1.0  0.0  0.0  0.0   \n",
       "1 -1.915313 -0.092738  0.072199  1.633471  2.122573  0.0  1.0  0.0  0.0  1.0   \n",
       "2 -1.474158 -0.092738 -0.816773  0.977514  0.310912  1.0  0.0  0.0  1.0  0.0   \n",
       "3  0.180175 -0.663867 -0.198357  1.239897 -0.206705  0.0  1.0  0.0  1.0  0.0   \n",
       "4  0.290464 -0.663867  2.082050  0.583939 -0.379244  1.0  0.0  1.0  0.0  0.0   \n",
       "5  0.290464  0.478391 -1.048678 -0.072018 -0.551783  0.0  1.0  1.0  0.0  0.0   \n",
       "6  0.180175  0.478391  0.922521  0.146634  0.224643  1.0  0.0  0.0  1.0  0.0   \n",
       "7 -1.143291 -0.663867  0.323431  1.021244 -0.896862  0.0  1.0  0.0  1.0  0.0   \n",
       "8 -0.260980  2.306004 -0.913400  0.540209 -0.465514  0.0  1.0  0.0  0.0  1.0   \n",
       "9  0.290464  1.049520 -1.512490  1.064975  0.483451  0.0  1.0  0.0  0.0  1.0   \n",
       "\n",
       "   ...   20   21   22   23   24   25   26   27   28   29  \n",
       "0  ...  0.0  1.0  0.0  0.0  0.0  0.0  0.0  1.0  0.0  0.0  \n",
       "1  ...  0.0  1.0  0.0  0.0  0.0  0.0  0.0  0.0  1.0  0.0  \n",
       "2  ...  1.0  1.0  0.0  0.0  0.0  0.0  0.0  0.0  1.0  0.0  \n",
       "3  ...  1.0  1.0  0.0  0.0  0.0  0.0  0.0  0.0  1.0  0.0  \n",
       "4  ...  1.0  1.0  0.0  0.0  0.0  0.0  0.0  0.0  1.0  0.0  \n",
       "5  ...  0.0  1.0  0.0  0.0  0.0  0.0  0.0  1.0  0.0  0.0  \n",
       "6  ...  0.0  1.0  0.0  0.0  0.0  0.0  0.0  0.0  1.0  0.0  \n",
       "7  ...  1.0  1.0  0.0  0.0  0.0  0.0  0.0  0.0  0.0  1.0  \n",
       "8  ...  1.0  1.0  0.0  0.0  0.0  0.0  0.0  0.0  0.0  1.0  \n",
       "9  ...  1.0  1.0  0.0  0.0  0.0  0.0  0.0  0.0  1.0  0.0  \n",
       "\n",
       "[10 rows x 30 columns]"
      ]
     },
     "execution_count": 16,
     "metadata": {},
     "output_type": "execute_result"
    }
   ],
   "source": [
    "from sklearn.pipeline import Pipeline\n",
    "from sklearn.preprocessing import StandardScaler\n",
    "from sklearn.preprocessing import OneHotEncoder\n",
    "from sklearn.compose import ColumnTransformer\n",
    "\n",
    "data_cat_features = [\"cp\",\"fbs\",\"restecg\",\"exang\",\"slope\",\"ca\", \"thal\"]\n",
    "\n",
    "data_num = new_data.drop(columns=data_cat_features)\n",
    "\n",
    "data_num_pipeline = Pipeline([\n",
    "    ('std_scaler', StandardScaler()),\n",
    "])\n",
    "\n",
    "data_num_tr = data_num_pipeline.fit_transform(data_num)\n",
    "data_num_features = list(data_num)\n",
    "\n",
    "data_full_pipeline = ColumnTransformer([\n",
    "    (\"num\", data_num_pipeline, data_num_features),\n",
    "    (\"cat\", OneHotEncoder(sparse=False, handle_unknown='ignore'), data_cat_features),\n",
    "])\n",
    "\n",
    "data_prepared = data_full_pipeline.fit_transform(new_data)\n",
    "data_prepared = pd.DataFrame(data_prepared)\n",
    "\n",
    "data_prepared.head(10)"
   ]
  },
  {
   "cell_type": "markdown",
   "metadata": {},
   "source": [
    "### Question 2.4 Now create a separate, processed training data set by dividing your processed dataframe into training and testing cohorts, using the same settings as Q2.2 (REMEMBER TO USE DIFFERENT TRAINING AND TESTING VARIABLES SO AS NOT TO OVERWRITE YOUR PREVIOUS DATA). Output the resulting shapes of your training and testing samples to confirm that your split was successful, and describe what differences there are between your two training datasets."
   ]
  },
  {
   "cell_type": "code",
   "execution_count": 17,
   "metadata": {},
   "outputs": [
    {
     "name": "stdout",
     "output_type": "stream",
     "text": [
      "(212, 30) (91, 30) (212,) (91,)\n"
     ]
    }
   ],
   "source": [
    "x_train, x_test, y_train, y_test = train_test_split(data_prepared, target_column, \n",
    "                                                    test_size=0.3,random_state=42)\n",
    "\n",
    "print(x_train.shape, x_test.shape, y_train.shape, y_test.shape)"
   ]
  },
  {
   "cell_type": "markdown",
   "metadata": {},
   "source": [
    "\n",
    "The two datasets primarily difer in two major areas:\n",
    "\n",
    "1. The raw dataset is not scaled appropriately whereas the pipelined data is. This is important because our model will weigh features with a greater value more even though they should not be. For example, cholestrol is in the range 126 to 564, which is much greater than the other features and therefore will be weighed much more. However, from our correlation heatmap, we see that cholestrol is not highly correlated to sickness. Therefore, this results in incorrect results in our model.\n",
    "\n",
    "2. A similar problem occurs with categorical features like sex, cp, fbs, exang, slope, ca, thalach, restecg which account for the majority of the features in our dataset. This means that the model will weigh a greater label more and therefore lead to incorrect results.\n",
    "\n",
    "- We will see this result later when we test our datasets. You can see that the raw data performs poorly against the pipelined data."
   ]
  },
  {
   "cell_type": "markdown",
   "metadata": {},
   "source": [
    "## [50 Points] Part 3. Learning Methods "
   ]
  },
  {
   "cell_type": "markdown",
   "metadata": {},
   "source": [
    "We're finally ready to actually begin classifying our data. To do so we'll employ multiple learning methods and compare result."
   ]
  },
  {
   "cell_type": "markdown",
   "metadata": {},
   "source": [
    "### Linear Decision Boundary Methods "
   ]
  },
  {
   "cell_type": "markdown",
   "metadata": {},
   "source": [
    "### SVM (Support Vector Machine)"
   ]
  },
  {
   "cell_type": "markdown",
   "metadata": {},
   "source": [
    "A Support Vector Machine (SVM) is a discriminative classifier formally defined by a separating hyperplane. In other words, given labeled training data (supervised learning), the algorithm outputs an optimal hyperplane which categorizes new examples. In two dimentional space this hyperplane is a line dividing a plane in two parts where in each class lay in either side."
   ]
  },
  {
   "cell_type": "markdown",
   "metadata": {},
   "source": [
    "### Question 3.1.1 Implement a Support Vector Machine classifier on your RAW dataset. Review the [SVM Documentation](https://scikit-learn.org/stable/modules/generated/sklearn.svm.SVC.html) for how to implement a model. For this implementation you can simply use the default settings, but set probability = True."
   ]
  },
  {
   "cell_type": "code",
   "execution_count": 18,
   "metadata": {},
   "outputs": [],
   "source": [
    "# SVM\n",
    "raw_svm = SVC(probability=True, gamma='auto')\n",
    "raw_svm.fit(raw_x_train, raw_y_train)\n",
    "raw_svm_predicted = raw_svm.predict(raw_x_test)\n",
    "raw_score = raw_svm.predict_proba(raw_x_test)"
   ]
  },
  {
   "cell_type": "markdown",
   "metadata": {},
   "source": [
    "### Question 3.1.2 Report the accuracy, precision, recall, F1 Score, and confusion matrix of the resulting model."
   ]
  },
  {
   "cell_type": "code",
   "execution_count": 19,
   "metadata": {},
   "outputs": [
    {
     "name": "stdout",
     "output_type": "stream",
     "text": [
      "Accuracy:    0.560440\n",
      "Precision:   1.000000\n",
      "Recall:      0.024390\n",
      "F1 score:    0.047619\n",
      "Confusion Matrix for Raw Data: \n",
      "\n"
     ]
    },
    {
     "data": {
      "image/png": "[encoded data removed]",
      "text/plain": [
       "<Figure size 432x288 with 2 Axes>"
      ]
     },
     "metadata": {
      "needs_background": "light"
     },
     "output_type": "display_data"
    }
   ],
   "source": [
    "print(\"%-12s %f\" % ('Accuracy:', metrics.accuracy_score(raw_y_test, raw_svm_predicted)))\n",
    "print(\"%-12s %f\" % ('Precision:', metrics.precision_score(raw_y_test, raw_svm_predicted)))\n",
    "print(\"%-12s %f\" % ('Recall:', metrics.recall_score(raw_y_test, raw_svm_predicted)))\n",
    "print(\"%-12s %f\" % ('F1 score:', metrics.f1_score(raw_y_test, raw_svm_predicted)))\n",
    "\n",
    "print(\"Confusion Matrix for Raw Data: \\n\")\n",
    "draw_confusion_matrix(raw_y_test, raw_svm_predicted, [\"Healthy\",\"Sick\"])"
   ]
  },
  {
   "cell_type": "markdown",
   "metadata": {},
   "source": [
    "### Question 3.1.3 Discuss what each measure is reporting, why they are different, and why are each of these measures is significant. Explore why we might choose to evaluate the performance of differing models differently based on these factors. Try to give some specific examples of scenarios in which you might value one of these measures over the others."
   ]
  },
  {
   "cell_type": "markdown",
   "metadata": {},
   "source": [
    "#### Answer\n",
    "\n",
    "##### Accuracy\n",
    "- Accuracy is the fraction of predictions our model got right, or number of correct predictions/total number of predictions.\n",
    "- It is important as it tells us how many false negatives, or false positive values that our model is classifying. Optimistically we would want our model to classify as less false values as possible and therefore this score is really important in determining that.\n",
    "- Value this over anything else when we want to see the overall effectiveness of our model\n",
    "\n",
    "##### Precision\n",
    "- Precision explores what proportion of positive classifications were actually correct.\n",
    "- It is the ratio of the number of correct positives over the total number of positive classifications (correct and otherwise).\n",
    "- This relates directly to False Positives as a higher Precision score corresponds to a low rate of false positives.\n",
    "- Again the importance of this score is similar to that of accuracy as it tells us how many false positives our model has guessed.\n",
    "- Value this over other models when we care a lot about false positives. For example, in cancer detection we don't want the patient to go through the whole process of chemotherapy or other procedures when they don't have cancer.\n",
    "\n",
    "##### Recall:\n",
    "- In recall, we are worried about false negatives, and overlooking potential positives. \n",
    "- Recall is the ratio of correctly predicted positive observations to the all observations in actual class\n",
    "- This again has a similar importance as that of precision and accuracy\n",
    "- Value this over other models when false negatives are extreemely harmful. For example in a fraud detection model we don't want to classify a potential fraud to be safe when it has a potential to be harmful.\n",
    "\n",
    "##### F1 Score:\n",
    "- F1 Score is a balance. It is the weighted average of Precision and Recall and therefore takes both false positives and false negatives into account.\n",
    "- This is important when we want to minimize the false predictions our model makes.\n",
    "- Value this over other models when we absolutely don't want our model to classify things incorrectly. For example in the case of cancer, we don't want to classify a sick person as healthy and vice-versa."
   ]
  },
  {
   "cell_type": "markdown",
   "metadata": {},
   "source": [
    "### Question 3.1.4 Plot a Receiver Operating Characteristic curve, or ROC curve, and describe what it is and what the results indicate"
   ]
  },
  {
   "cell_type": "code",
   "execution_count": 20,
   "metadata": {},
   "outputs": [
    {
     "name": "stdout",
     "output_type": "stream",
     "text": [
      "Raw SVM Model Performance Results: \n",
      "\n"
     ]
    },
    {
     "data": {
      "image/png": "[encoded data removed]",
      "text/plain": [
       "<Figure size 432x288 with 1 Axes>"
      ]
     },
     "metadata": {
      "needs_background": "light"
     },
     "output_type": "display_data"
    }
   ],
   "source": [
    "print(\"Raw SVM Model Performance Results: \\n\")\n",
    "\n",
    "fpr_svm, tpr_svm, thresholds = metrics.roc_curve(raw_y_test, raw_score[:, 1], pos_label=1)\n",
    "\n",
    "pyplot.figure(1)\n",
    "pyplot.plot(fpr_svm, tpr_svm, color='blue', lw=1)\n",
    "pyplot.title(\"ROC curve with Raw SVM\")\n",
    "pyplot.xlabel(\"FPR\")\n",
    "pyplot.ylabel(\"TPR\")\n",
    "pyplot.show()"
   ]
  },
  {
   "cell_type": "markdown",
   "metadata": {},
   "source": [
    "\n",
    "##### ROC Curve:\n",
    "- The ROC curve is created by plotting the true positive rate (TPR) against the false positive rate (FPR) at various threshold settings.\n",
    "- An ROC curve plots TPR vs. FPR at different classification thresholds.\n",
    "- Lowering the classification threshold classifies more items as positive, increasing both False Positives and True Positives.\n",
    "- The area under an ROC curve is a measure of the usefulness of a test in general, where a greater area means a more useful test. Closer the area under the curve is to 1, the better the model is."
   ]
  },
  {
   "cell_type": "markdown",
   "metadata": {},
   "source": [
    "### Question 3.1.5 Rerun, using the exact same settings, only this time use your processed data as inputs. "
   ]
  },
  {
   "cell_type": "code",
   "execution_count": 21,
   "metadata": {},
   "outputs": [],
   "source": [
    "svm = SVC(probability=True, gamma='auto')\n",
    "svm.fit(x_train, y_train)\n",
    "svm_predicted = svm.predict(x_test)\n",
    "score = svm.predict_proba(x_test)"
   ]
  },
  {
   "cell_type": "markdown",
   "metadata": {},
   "source": [
    "### Question 3.1.6 Report the accuracy, precision, recall, F1 Score, confusion matrix, and plot the ROC Curve of the resulting model."
   ]
  },
  {
   "cell_type": "code",
   "execution_count": 22,
   "metadata": {},
   "outputs": [
    {
     "name": "stdout",
     "output_type": "stream",
     "text": [
      "Accuracy:    0.868132\n",
      "Precision:   0.871795\n",
      "Recall:      0.829268\n",
      "F1 score:    0.850000\n",
      "Confusion Matrix for Data: \n",
      "\n"
     ]
    },
    {
     "data": {
      "image/png": "[encoded data removed]",
      "text/plain": [
       "<Figure size 432x288 with 2 Axes>"
      ]
     },
     "metadata": {
      "needs_background": "light"
     },
     "output_type": "display_data"
    }
   ],
   "source": [
    "print(\"%-12s %f\" % ('Accuracy:', metrics.accuracy_score(y_test, svm_predicted)))\n",
    "print(\"%-12s %f\" % ('Precision:', metrics.precision_score(y_test, svm_predicted)))\n",
    "print(\"%-12s %f\" % ('Recall:', metrics.recall_score(y_test, svm_predicted)))\n",
    "print(\"%-12s %f\" % ('F1 score:', metrics.f1_score(y_test, svm_predicted)))\n",
    "\n",
    "print(\"Confusion Matrix for Data: \\n\")\n",
    "draw_confusion_matrix(y_test, svm_predicted, [\"Healthy\",\"Sick\"])"
   ]
  },
  {
   "cell_type": "code",
   "execution_count": 23,
   "metadata": {},
   "outputs": [
    {
     "name": "stdout",
     "output_type": "stream",
     "text": [
      "SVM Model Performance Results: \n",
      "\n"
     ]
    },
    {
     "data": {
      "image/png": "[encoded data removed]",
      "text/plain": [
       "<Figure size 432x288 with 1 Axes>"
      ]
     },
     "metadata": {
      "needs_background": "light"
     },
     "output_type": "display_data"
    }
   ],
   "source": [
    "print(\"SVM Model Performance Results: \\n\")\n",
    "\n",
    "fpr_svm, tpr_svm, thresholds = metrics.roc_curve(y_test, score[:, 1], pos_label=1)\n",
    "\n",
    "pyplot.figure(1)\n",
    "pyplot.plot(fpr_svm, tpr_svm, color='blue', lw=1)\n",
    "pyplot.title(\"ROC curve with SVM\")\n",
    "pyplot.xlabel(\"FPR\")\n",
    "pyplot.ylabel(\"TPR\")\n",
    "pyplot.show()"
   ]
  },
  {
   "cell_type": "markdown",
   "metadata": {},
   "source": [
    "### Question 3.1.7 Hopefully you've noticed a dramatic change in performance. Discuss why you think your new data has had such a dramatic impact. "
   ]
  },
  {
   "cell_type": "markdown",
   "metadata": {},
   "source": [
    "##### Answer\n",
    "\n",
    "- Since I pipelined my data and made sure all my features were appropriately scaled or encoded, my model correctly weighed the data and did not unnecessarily weigh some category or feature more than others.\n",
    "- This resulted in correct predictions and greatly reduced the classification of false positives or false negatives. "
   ]
  },
  {
   "cell_type": "markdown",
   "metadata": {},
   "source": [
    "### Question 3.1.8 Rerun your SVM, but now modify your model parameter kernel to equal 'linear'. Again report your Accuracy, Precision, Recall, F1 scores, and Confusion matrix and plot the new ROC curve.  "
   ]
  },
  {
   "cell_type": "code",
   "execution_count": 24,
   "metadata": {},
   "outputs": [],
   "source": [
    "# SVM\n",
    "svm = SVC(probability=True, gamma='auto', kernel='linear')\n",
    "svm.fit(x_train, y_train)\n",
    "svm_predicted = svm.predict(x_test)\n",
    "score = svm.predict_proba(x_test)"
   ]
  },
  {
   "cell_type": "code",
   "execution_count": 25,
   "metadata": {},
   "outputs": [
    {
     "name": "stdout",
     "output_type": "stream",
     "text": [
      "Accuracy:    0.835165\n",
      "Precision:   0.825000\n",
      "Recall:      0.804878\n",
      "F1 score:    0.814815\n",
      "Confusion Matrix for Data (Linear): \n",
      "\n"
     ]
    },
    {
     "data": {
      "image/png": "[encoded data removed]",
      "text/plain": [
       "<Figure size 432x288 with 2 Axes>"
      ]
     },
     "metadata": {
      "needs_background": "light"
     },
     "output_type": "display_data"
    }
   ],
   "source": [
    "print(\"%-12s %f\" % ('Accuracy:', metrics.accuracy_score(y_test, svm_predicted)))\n",
    "print(\"%-12s %f\" % ('Precision:', metrics.precision_score(y_test, svm_predicted)))\n",
    "print(\"%-12s %f\" % ('Recall:', metrics.recall_score(y_test, svm_predicted)))\n",
    "print(\"%-12s %f\" % ('F1 score:', metrics.f1_score(y_test, svm_predicted)))\n",
    "\n",
    "print(\"Confusion Matrix for Data (Linear): \\n\")\n",
    "draw_confusion_matrix(y_test, svm_predicted, [\"Healthy\",\"Sick\"])"
   ]
  },
  {
   "cell_type": "code",
   "execution_count": 26,
   "metadata": {},
   "outputs": [
    {
     "name": "stdout",
     "output_type": "stream",
     "text": [
      "Linear SVM Model Performance Results: \n",
      "\n"
     ]
    },
    {
     "data": {
      "image/png": "[encoded data removed]",
      "text/plain": [
       "<Figure size 432x288 with 1 Axes>"
      ]
     },
     "metadata": {
      "needs_background": "light"
     },
     "output_type": "display_data"
    }
   ],
   "source": [
    "print(\"Linear SVM Model Performance Results: \\n\")\n",
    "\n",
    "fpr_svm, tpr_svm, thresholds = metrics.roc_curve(y_test, score[:, 1], pos_label=1)\n",
    "\n",
    "pyplot.figure(1)\n",
    "pyplot.plot(fpr_svm, tpr_svm, color='blue', lw=1)\n",
    "pyplot.title(\"ROC curve with Linear SVM\")\n",
    "pyplot.xlabel(\"FPR\")\n",
    "pyplot.ylabel(\"TPR\")\n",
    "pyplot.show()"
   ]
  },
  {
   "cell_type": "markdown",
   "metadata": {},
   "source": [
    "### Question 3.1.9 Explain the what the new results you've achieved mean. Read the documentation to understand what you've changed about your model and explain why changing that input parameter might impact the results in the manner you've observed."
   ]
  },
  {
   "cell_type": "markdown",
   "metadata": {},
   "source": [
    "##### Answer\n",
    "\n",
    "- The new results show that my model performs slightly worse when the SVM model is forced to be linear.\n",
    "- This might occur due to the fact that our data is not linearly separable and hence a linear model might not produce the best results when using a linear model.\n",
    "- When a non-linear model is used, it can easily be fit into the data as now is can produce a non-linear \"boundary\" between the 2 categories of data better. Therefore, it performs better."
   ]
  },
  {
   "cell_type": "markdown",
   "metadata": {},
   "source": [
    "### Logistic Regression"
   ]
  },
  {
   "cell_type": "markdown",
   "metadata": {},
   "source": [
    "Knowing that we're dealing with a linearly configured dataset, let's now try another classifier that's well known for handling linear models: Logistic Regression. Logistic regression is a statistical model that in its basic form uses a logistic function to model a binary dependent variable."
   ]
  },
  {
   "cell_type": "markdown",
   "metadata": {},
   "source": [
    "### Question 3.2.1 Implement a Logistical Regression Classifier. Review the [Logistical Regression Documentation](https://scikit-learn.org/stable/modules/generated/sklearn.linear_model.LogisticRegression.html) for how to implement the model. For this initial model set the solver = 'sag' and max_iter= 10). Report on the same four metrics as the SVM and graph the resulting ROC curve."
   ]
  },
  {
   "cell_type": "code",
   "execution_count": 27,
   "metadata": {},
   "outputs": [
    {
     "name": "stderr",
     "output_type": "stream",
     "text": [
      "C:\\Users\\param\\Anaconda3\\lib\\site-packages\\sklearn\\linear_model\\sag.py:337: ConvergenceWarning: The max_iter was reached which means the coef_ did not converge\n",
      "  \"the coef_ did not converge\", ConvergenceWarning)\n"
     ]
    }
   ],
   "source": [
    "# Logistic Regression\n",
    "logistic = LogisticRegression(solver='sag', max_iter=10)\n",
    "logistic.fit(x_train, y_train)\n",
    "logistic_predicted = logistic.predict(x_test)\n",
    "logistic_score = logistic.predict_proba(x_test)"
   ]
  },
  {
   "cell_type": "code",
   "execution_count": 28,
   "metadata": {},
   "outputs": [
    {
     "name": "stdout",
     "output_type": "stream",
     "text": [
      "Accuracy:    0.857143\n",
      "Precision:   0.868421\n",
      "Recall:      0.804878\n",
      "F1 score:    0.835443\n",
      "Confusion Matrix for Data (Logistic): \n",
      "\n"
     ]
    },
    {
     "data": {
      "image/png": "[encoded data removed]",
      "text/plain": [
       "<Figure size 432x288 with 2 Axes>"
      ]
     },
     "metadata": {
      "needs_background": "light"
     },
     "output_type": "display_data"
    }
   ],
   "source": [
    "print(\"%-12s %f\" % ('Accuracy:', metrics.accuracy_score(y_test, logistic_predicted)))\n",
    "print(\"%-12s %f\" % ('Precision:', metrics.precision_score(y_test, logistic_predicted)))\n",
    "print(\"%-12s %f\" % ('Recall:', metrics.recall_score(y_test, logistic_predicted)))\n",
    "print(\"%-12s %f\" % ('F1 score:', metrics.f1_score(y_test, logistic_predicted)))\n",
    "\n",
    "print(\"Confusion Matrix for Data (Logistic): \\n\")\n",
    "draw_confusion_matrix(y_test, logistic_predicted, [\"Healthy\",\"Sick\"])"
   ]
  },
  {
   "cell_type": "code",
   "execution_count": 29,
   "metadata": {},
   "outputs": [
    {
     "name": "stdout",
     "output_type": "stream",
     "text": [
      "Logistic Regression Model Performance Results: \n",
      "\n"
     ]
    },
    {
     "data": {
      "image/png": "[encoded data removed]",
      "text/plain": [
       "<Figure size 432x288 with 1 Axes>"
      ]
     },
     "metadata": {
      "needs_background": "light"
     },
     "output_type": "display_data"
    }
   ],
   "source": [
    "print(\"Logistic Regression Model Performance Results: \\n\")\n",
    "\n",
    "fpr_svm, tpr_svm, thresholds = metrics.roc_curve(y_test, logistic_score[:, 1], pos_label=1)\n",
    "\n",
    "pyplot.figure(1)\n",
    "pyplot.plot(fpr_svm, tpr_svm, color='blue', lw=1)\n",
    "pyplot.title(\"ROC curve with Logistic Regression\")\n",
    "pyplot.xlabel(\"FPR\")\n",
    "pyplot.ylabel(\"TPR\")\n",
    "pyplot.show()"
   ]
  },
  {
   "cell_type": "markdown",
   "metadata": {},
   "source": [
    "### Question 3.2.2 Did you notice that when you ran the previous model you got the following warning: \"ConvergenceWarning: The max_iter was reached which means the coef_ did not converge\". Check the documentation and see if you can implement a fix for this problem, and again report your results."
   ]
  },
  {
   "cell_type": "code",
   "execution_count": 30,
   "metadata": {},
   "outputs": [],
   "source": [
    "# Logistic Regression\n",
    "logistic = LogisticRegression(solver='sag', max_iter=1000)\n",
    "logistic.fit(x_train, y_train)\n",
    "logistic_predicted = logistic.predict(x_test)\n",
    "logistic_score = logistic.predict_proba(x_test)"
   ]
  },
  {
   "cell_type": "code",
   "execution_count": 31,
   "metadata": {},
   "outputs": [
    {
     "name": "stdout",
     "output_type": "stream",
     "text": [
      "Accuracy:    0.857143\n",
      "Precision:   0.868421\n",
      "Recall:      0.804878\n",
      "F1 score:    0.835443\n",
      "Confusion Matrix for Data (Logistic): \n",
      "\n"
     ]
    },
    {
     "data": {
      "image/png": "[encoded data removed]",
      "text/plain": [
       "<Figure size 432x288 with 2 Axes>"
      ]
     },
     "metadata": {
      "needs_background": "light"
     },
     "output_type": "display_data"
    }
   ],
   "source": [
    "print(\"%-12s %f\" % ('Accuracy:', metrics.accuracy_score(y_test, logistic_predicted)))\n",
    "print(\"%-12s %f\" % ('Precision:', metrics.precision_score(y_test, logistic_predicted)))\n",
    "print(\"%-12s %f\" % ('Recall:', metrics.recall_score(y_test, logistic_predicted)))\n",
    "print(\"%-12s %f\" % ('F1 score:', metrics.f1_score(y_test, logistic_predicted)))\n",
    "\n",
    "print(\"Confusion Matrix for Data (Logistic): \\n\")\n",
    "draw_confusion_matrix(y_test, logistic_predicted, [\"Healthy\",\"Sick\"])"
   ]
  },
  {
   "cell_type": "code",
   "execution_count": 32,
   "metadata": {},
   "outputs": [
    {
     "name": "stdout",
     "output_type": "stream",
     "text": [
      "Logistic Regression Model Performance Results: \n",
      "\n"
     ]
    },
    {
     "data": {
      "image/png": "[encoded data removed]",
      "text/plain": [
       "<Figure size 432x288 with 1 Axes>"
      ]
     },
     "metadata": {
      "needs_background": "light"
     },
     "output_type": "display_data"
    }
   ],
   "source": [
    "print(\"Logistic Regression Model Performance Results: \\n\")\n",
    "\n",
    "fpr_svm, tpr_svm, thresholds = metrics.roc_curve(y_test, logistic_score[:, 1], pos_label=1)\n",
    "\n",
    "pyplot.figure(1)\n",
    "pyplot.plot(fpr_svm, tpr_svm, color='blue', lw=1)\n",
    "pyplot.title(\"ROC curve with Logistic Regression\")\n",
    "pyplot.xlabel(\"FPR\")\n",
    "pyplot.ylabel(\"TPR\")\n",
    "pyplot.show()"
   ]
  },
  {
   "cell_type": "markdown",
   "metadata": {},
   "source": [
    "### Question 3.2.3 Explain what you changed, and why that produced an improved outcome. "
   ]
  },
  {
   "cell_type": "markdown",
   "metadata": {},
   "source": [
    "##### Answer\n",
    "\n",
    "- In this model we get the error message \"the coef_ did not converge\" because a max_iter of value 10 is extremely small for a model to converge to its optimal value. Therefore, changing the max_iter value to be 1000 (or greater than that) makes the warning go away as now the model has sufficient number of iterations to converge.\n",
    "\n",
    "- In our specific example however, changing the max_iter from 10 to a 1000 does not increase the performance of the model as this model gets a really good performance really fast. Therefore, it only takes a few iterations for it to converge and hence produces the same result."
   ]
  },
  {
   "cell_type": "markdown",
   "metadata": {},
   "source": [
    "### Question 3.2.4 Rerun your logistic classifier, but modify the penalty = 'none', solver='sag' and again report the results."
   ]
  },
  {
   "cell_type": "code",
   "execution_count": 33,
   "metadata": {},
   "outputs": [],
   "source": [
    "# Logistic Regression\n",
    "logistic = LogisticRegression(penalty='none', solver='sag', max_iter=100000)\n",
    "logistic.fit(x_train, y_train)\n",
    "logistic_predicted = logistic.predict(x_test)\n",
    "logistic_score = logistic.predict_proba(x_test)"
   ]
  },
  {
   "cell_type": "code",
   "execution_count": 34,
   "metadata": {},
   "outputs": [
    {
     "name": "stdout",
     "output_type": "stream",
     "text": [
      "Accuracy:    0.835165\n",
      "Precision:   0.825000\n",
      "Recall:      0.804878\n",
      "F1 score:    0.814815\n",
      "Confusion Matrix for Data (Logistic): \n",
      "\n"
     ]
    },
    {
     "data": {
      "image/png": "[encoded data removed]",
      "text/plain": [
       "<Figure size 432x288 with 2 Axes>"
      ]
     },
     "metadata": {
      "needs_background": "light"
     },
     "output_type": "display_data"
    }
   ],
   "source": [
    "print(\"%-12s %f\" % ('Accuracy:', metrics.accuracy_score(y_test, logistic_predicted)))\n",
    "print(\"%-12s %f\" % ('Precision:', metrics.precision_score(y_test, logistic_predicted)))\n",
    "print(\"%-12s %f\" % ('Recall:', metrics.recall_score(y_test, logistic_predicted)))\n",
    "print(\"%-12s %f\" % ('F1 score:', metrics.f1_score(y_test, logistic_predicted)))\n",
    "\n",
    "print(\"Confusion Matrix for Data (Logistic): \\n\")\n",
    "draw_confusion_matrix(y_test, logistic_predicted, [\"Healthy\",\"Sick\"])"
   ]
  },
  {
   "cell_type": "code",
   "execution_count": 35,
   "metadata": {},
   "outputs": [
    {
     "name": "stdout",
     "output_type": "stream",
     "text": [
      "Logistic Regression Model Performance Results: \n",
      "\n"
     ]
    },
    {
     "data": {
      "image/png": "[encoded data removed]",
      "text/plain": [
       "<Figure size 432x288 with 1 Axes>"
      ]
     },
     "metadata": {
      "needs_background": "light"
     },
     "output_type": "display_data"
    }
   ],
   "source": [
    "print(\"Logistic Regression Model Performance Results: \\n\")\n",
    "\n",
    "fpr_svm, tpr_svm, thresholds = metrics.roc_curve(y_test, logistic_score[:, 1], pos_label=1)\n",
    "\n",
    "pyplot.figure(1)\n",
    "pyplot.plot(fpr_svm, tpr_svm, color='blue', lw=1)\n",
    "pyplot.title(\"ROC curve with Logistic Regression\")\n",
    "pyplot.xlabel(\"FPR\")\n",
    "pyplot.ylabel(\"TPR\")\n",
    "pyplot.show()"
   ]
  },
  {
   "cell_type": "markdown",
   "metadata": {},
   "source": [
    "### Question 3.2.5 Explain what the penalty parameter is doing in this function, what the solver method is, and why this combination likely produced a more optimal outcome. "
   ]
  },
  {
   "cell_type": "markdown",
   "metadata": {},
   "source": [
    "##### Answer\n",
    "\n",
    "Our goal with the model is to minimize the loss function as much as possible. But, having an extremely low loss function means that we potentially overfit the data and therefore we regularize it to penalize high values and try to set a lower bound on our loss function. Therefore, what the penalty parameter essentially does is that it removes regularization (which could potential overfit).\n",
    "\n",
    "\n",
    "The solver method, SAG or stochastic average gradient descent, is an optimisation/variation to the stochastic gradient descent (SG) alogrithm that makes it faster for cases where you have many datapoints + features. Like SG methods, the SAG method’s iteration cost is independent of the number of terms in the sum. However, by incorporating a memory of previous gradient values the SAG method achieves a faster convergence rate than SG methods.\n",
    "\n",
    "A combination of both produces an optimal outcome becuase both produce an optimisation to the existing model. Penalty parameter makes the model converge faster by having a lower bound and prevents overfitting while SAG also produces an optimization to the existing model and enables it to converge faster as well."
   ]
  },
  {
   "cell_type": "markdown",
   "metadata": {},
   "source": [
    "### Question 3.2.6 Both logistic regression and linear SVM are trying to classify data points using a linear decision boundary, then what’s the difference between their ways to find this boundary?"
   ]
  },
  {
   "cell_type": "markdown",
   "metadata": {},
   "source": [
    "###### Answer\n",
    "\n",
    "Logistic Regression calculates the probabilities and models them on the sigmoid function. Depending on where the point falls on the function, the model classifies it accordingly. Whereas, SVM does a linear split in the data and depending on where the point lies, it classifies it accordingly"
   ]
  },
  {
   "cell_type": "markdown",
   "metadata": {},
   "source": [
    "### Clustering Approaches "
   ]
  },
  {
   "cell_type": "markdown",
   "metadata": {},
   "source": [
    "Let us now try a different approach to classification using a clustering algorithm. Specifically, we're going to be using K-Nearest Neighbor, one of the most popular clustering approaches. "
   ]
  },
  {
   "cell_type": "markdown",
   "metadata": {},
   "source": [
    "### K-Nearest Neighbor  "
   ]
  },
  {
   "cell_type": "markdown",
   "metadata": {},
   "source": [
    "### Question 3.3.1 Implement a K-Nearest Neighbor algorithm on our data and report the results. For this initial implementation simply use the default settings. Refer to the [KNN Documentation](https://scikit-learn.org/stable/modules/generated/sklearn.neighbors.KNeighborsClassifier.html) for details on implementation. Report on the accuracy of the resulting model."
   ]
  },
  {
   "cell_type": "code",
   "execution_count": 36,
   "metadata": {},
   "outputs": [
    {
     "name": "stdout",
     "output_type": "stream",
     "text": [
      "Accuracy:    0.868132\n"
     ]
    }
   ],
   "source": [
    "# k-Nearest Neighbors algorithm\n",
    "KNN = KNeighborsClassifier()\n",
    "KNN.fit(x_train, y_train)\n",
    "KNN_predicted = KNN.predict(x_test)\n",
    "KNN_score = KNN.predict_proba(x_test)\n",
    "\n",
    "print(\"%-12s %f\" % ('Accuracy:', metrics.accuracy_score(y_test, KNN_predicted)))"
   ]
  },
  {
   "cell_type": "markdown",
   "metadata": {},
   "source": [
    "### Question 3.3.2 For clustering algorithms, we use different measures to determine the effectiveness of the model. Specifically here, we're interested in the Homogeneity Score, Completeness Score, V-Measure, Adjusted Rand Score, and Adjusted Mutual Information. Calculate each score (hint review the SKlearn Metrics Clustering documentation for how to implement)."
   ]
  },
  {
   "cell_type": "code",
   "execution_count": 37,
   "metadata": {},
   "outputs": [
    {
     "name": "stdout",
     "output_type": "stream",
     "text": [
      "Homogeneity Score: 0.434542\n",
      "Completeness Score: 0.434542\n",
      "V-Measure Score: 0.434542\n",
      "Adjusted Rand Score: 0.536996\n",
      "Adjusted Mutual Information: 0.429912\n"
     ]
    }
   ],
   "source": [
    "print(\"%-12s %f\" % ('Homogeneity Score:', metrics.homogeneity_score(y_test, KNN_predicted)))\n",
    "print(\"%-12s %f\" % ('Completeness Score:', metrics.completeness_score(y_test, KNN_predicted)))\n",
    "print(\"%-12s %f\" % ('V-Measure Score:', metrics.v_measure_score(y_test, KNN_predicted)))\n",
    "print(\"%-12s %f\" % ('Adjusted Rand Score:', metrics.adjusted_rand_score(y_test, KNN_predicted)))\n",
    "print(\"%-12s %f\" % ('Adjusted Mutual Information:', \n",
    "                    metrics.adjusted_mutual_info_score(y_test, KNN_predicted, average_method='arithmetic')))"
   ]
  },
  {
   "cell_type": "markdown",
   "metadata": {},
   "source": [
    "### Question 3.3.3 Explain what each score means and interpret the results for this particular model. "
   ]
  },
  {
   "cell_type": "markdown",
   "metadata": {},
   "source": [
    "#### Answer\n",
    "\n",
    "##### Homogeneity Score:\n",
    "\n",
    "- This score is useful to check whether the clustering algorithm meets an important requirement: a cluster should contain only samples belonging to a single class. It's bounded between 0 and 1, with low values indicating a low homogeneity.\n",
    "\n",
    "- According to me, the homogeneity score of ~0.43 means that our data has low homogeneity and therefore the clusters are not completely separate but kind of mixed together.\n",
    "\n",
    "##### Completeness Score:\n",
    "\n",
    "- Its purpose is to provide a piece of information about the assignment of samples belonging to the same class. More precisely, a good clustering algorithm should assign all samples with the same true label to the same cluster.\n",
    "\n",
    "- Therefore, a completeness score of 0.43 means that the model is not complete in the sense that it has not clustered classes that completely correlates to it true labels\n",
    "\n",
    "##### V-measure Score:\n",
    "\n",
    "- The V-measure is the harmonic mean between homogeneity and completeness\n",
    "\n",
    "- This metric is independent of the absolute values of the labels: a permutation of the class or cluster label values won’t change the score value in any way.\n",
    "\n",
    "##### Adjusted Rand Score:\n",
    "\n",
    "- The Rand score is a measure of the similarity between two data clusterings. A form of the Rand index that is adjusted for the chance grouping of elements, is called the adjusted Rand score. From a mathematical standpoint, Rand score is related to the accuracy, but is applicable even when class labels are not used.\n",
    "\n",
    "- The adjusted Rand index is ensured to have a value close to 0.0 for random labeling independently of the number of clusters and samples and exactly 1.0 when the clusterings are identical.\n",
    "\n",
    "- The score of 0.53 means that it is alsmost adjusted and perfectly matching but it has incorrect elements and thus penalized\n",
    "\n",
    "##### Adjusted Mutual Information:\n",
    "\n",
    "- Adjusted mutual information is be used for comparing clusterings. It corrects the effect of agreement solely due to chance between clusterings, similar to the way the adjusted rand score corrects the Rand score. \n",
    " \n",
    "- Adjusted Mutual Information (AMI) is an adjustment of the Mutual Information (MI) score to account for chance. It accounts for the fact that the MI is generally higher for two clusterings with a larger number of clusters, regardless of whether there is actually more information shared."
   ]
  },
  {
   "cell_type": "markdown",
   "metadata": {},
   "source": [
    "As we're beginning to see, the input parameters for your model can dramatically impact the performance of the model. How do you know which settings to choose? Studying the models and studying your datasets are critical as they can help you anticipate which models and settings are likely to produce optimal results. However sometimes that isn't enough, and a brute force method is necessary to determine which parameters to use. For this next question we'll attempt to optimize a parameter using a brute force approach. "
   ]
  },
  {
   "cell_type": "markdown",
   "metadata": {},
   "source": [
    "### Question 3.3.4 Parameter Optimization.  The KNN Algorithm includes an n_neighbors attribute that specifies how many neighbors to use when developing the cluster. (The default value is 5, which is what your previous model used.) Lets now try n values of: 1, 2, 3, 5, 10, 20, 50, and 100. Run your model for each value and report the 6 measures (5 clustering specific plus accuracy) for each. Report on which n value produces the best accuracy and V-Measure. (HINT leverage python's ability to loop to run through the array and generate results without needing to manually code each iteration)."
   ]
  },
  {
   "cell_type": "code",
   "execution_count": 38,
   "metadata": {},
   "outputs": [
    {
     "name": "stdout",
     "output_type": "stream",
     "text": [
      "Number of neighbors: 1\n",
      "Accuracy:    0.747253\n",
      "Homogeneity Score: 0.180080\n",
      "Completeness Score: 0.180717\n",
      "V-Measure Score: 0.180398\n",
      "Adjusted Rand Score: 0.236145\n",
      "Adjusted Mutual Information: 0.173675\n",
      "\n",
      "Number of neighbors: 2\n",
      "Accuracy:    0.802198\n",
      "Homogeneity Score: 0.298268\n",
      "Completeness Score: 0.327995\n",
      "V-Measure Score: 0.312426\n",
      "Adjusted Rand Score: 0.358337\n",
      "Adjusted Mutual Information: 0.306507\n",
      "\n",
      "Number of neighbors: 3\n",
      "Accuracy:    0.835165\n",
      "Homogeneity Score: 0.364809\n",
      "Completeness Score: 0.362262\n",
      "V-Measure Score: 0.363531\n",
      "Adjusted Rand Score: 0.443216\n",
      "Adjusted Mutual Information: 0.358339\n",
      "\n",
      "Number of neighbors: 5\n",
      "Accuracy:    0.868132\n",
      "Homogeneity Score: 0.434542\n",
      "Completeness Score: 0.434542\n",
      "V-Measure Score: 0.434542\n",
      "Adjusted Rand Score: 0.536996\n",
      "Adjusted Mutual Information: 0.429912\n",
      "\n",
      "Number of neighbors: 10\n",
      "Accuracy:    0.846154\n",
      "Homogeneity Score: 0.377564\n",
      "Completeness Score: 0.384636\n",
      "V-Measure Score: 0.381067\n",
      "Adjusted Rand Score: 0.473520\n",
      "Adjusted Mutual Information: 0.375949\n",
      "\n",
      "Number of neighbors: 20\n",
      "Accuracy:    0.890110\n",
      "Homogeneity Score: 0.501223\n",
      "Completeness Score: 0.510611\n",
      "V-Measure Score: 0.505874\n",
      "Adjusted Rand Score: 0.604407\n",
      "Adjusted Mutual Information: 0.501787\n",
      "\n",
      "Number of neighbors: 50\n",
      "Accuracy:    0.868132\n",
      "Homogeneity Score: 0.435961\n",
      "Completeness Score: 0.444126\n",
      "V-Measure Score: 0.440005\n",
      "Adjusted Rand Score: 0.537010\n",
      "Adjusted Mutual Information: 0.435374\n",
      "\n",
      "Number of neighbors: 100\n",
      "Accuracy:    0.857143\n",
      "Homogeneity Score: 0.415335\n",
      "Completeness Score: 0.432549\n",
      "V-Measure Score: 0.423767\n",
      "Adjusted Rand Score: 0.504794\n",
      "Adjusted Mutual Information: 0.418946\n",
      "\n"
     ]
    }
   ],
   "source": [
    "l = [1, 2, 3, 5, 10, 20, 50, 100]\n",
    "\n",
    "for i in l:\n",
    "    KNN = KNeighborsClassifier(n_neighbors=i)\n",
    "    KNN.fit(x_train, y_train)\n",
    "    KNN_predicted = KNN.predict(x_test)\n",
    "    KNN_score = KNN.predict_proba(x_test)\n",
    "    \n",
    "    print(\"Number of neighbors:\", i)\n",
    "    print(\"%-12s %f\" % ('Accuracy:', metrics.accuracy_score(y_test, KNN_predicted)))\n",
    "    print(\"%-12s %f\" % ('Homogeneity Score:', metrics.homogeneity_score(y_test, KNN_predicted)))\n",
    "    print(\"%-12s %f\" % ('Completeness Score:', metrics.completeness_score(y_test, KNN_predicted)))\n",
    "    print(\"%-12s %f\" % ('V-Measure Score:', metrics.v_measure_score(y_test, KNN_predicted)))\n",
    "    print(\"%-12s %f\" % ('Adjusted Rand Score:', metrics.adjusted_rand_score(y_test, KNN_predicted)))\n",
    "    print(\"%-12s %f\" % ('Adjusted Mutual Information:', \n",
    "                        metrics.adjusted_mutual_info_score(y_test, \n",
    "                                                           KNN_predicted, average_method='arithmetic')))\n",
    "    print(\"\")"
   ]
  },
  {
   "cell_type": "markdown",
   "metadata": {},
   "source": [
    "##### Optimal Results\n",
    "\n",
    "The most optimal result in terms of clustering is with 20 neighbours (out of the tested variables). This makes sense as it kind of balances considering too few neighbours and considering too many neighbours.\n",
    "\n",
    "I feel that with 1, 5, and 10 number of neighbours, we don't get good results because the points on the border or near the borders of the 2 clusters might be skewed one way or the other. For example, even though a data point might belong to the sick class, since it is near more healthy data points, it will be classified incorrectly.\n",
    "\n",
    "A similar case occurs with considering 50 or 100 neighbours. I feel that 50 and 100 are too big of a number on our small dataset and therefore we take into consideration points that may be very far away from the actual point. Therefore, this results in low scores."
   ]
  },
  {
   "cell_type": "markdown",
   "metadata": {},
   "source": [
    "### Question 3.3.5 When are clustering algorithms most effective, and what do you think  explains the comparative results we achieved?  "
   ]
  },
  {
   "cell_type": "markdown",
   "metadata": {},
   "source": [
    "##### Answer\n",
    "\n",
    "- Generally clustering algorithms are most effective when the dataset is nicely separated into its classes. Usually, when the data has clusters that kind of merge together or don't have a fine line of separation, they don't perform well in classification/clustering algorithms. We could essentially create a model that perfectly separates our 2 clusters in our test data but this might lead to overfitting and our model won't be generalisable.\n",
    "\n",
    "- Unlike in SVM and logistic regression, where creating a fine line of separation is difficult, models like KNN perfom relatively better as the algorithm does not involve creating such a boundary. Rather, you just look at the k-nearest neighbours and based on the occurences of different classes, you decide which class to classify the point into. This reduces the false predictions that our model can possibly make around the boundary of different classes. \n",
    "\n",
    "- Therefore, KNN comparatively performs better than SVM and logistic regression."
   ]
  }
 ],
 "metadata": {
  "kernelspec": {
   "display_name": "Python 3",
   "language": "python",
   "name": "python3"
  },
  "language_info": {
   "codemirror_mode": {
    "name": "ipython",
    "version": 3
   },
   "file_extension": ".py",
   "mimetype": "text/x-python",
   "name": "python",
   "nbconvert_exporter": "python",
   "pygments_lexer": "ipython3",
   "version": "3.7.4"
  }
 },
 "nbformat": 4,
 "nbformat_minor": 2
}
